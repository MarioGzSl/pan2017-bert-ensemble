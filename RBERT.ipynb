{
 "cells": [
  {
   "cell_type": "code",
   "execution_count": 1,
   "metadata": {},
   "outputs": [],
   "source": [
    "#BERT\n",
    "from transformers import AutoModel, AutoTokenizer, BertForMaskedLM, BertTokenizerFast\n",
    "import torch\n",
    "import os\n",
    "import xml.etree.ElementTree as ET\n",
    "import re\n",
    "import random\n",
    "import tqdm\n",
    "\n",
    "\n",
    "from torch import nn\n",
    "from torch.nn import functional as F\n",
    "from torch import optim\n",
    "from transformers import AdamW, get_linear_schedule_with_warmup\n",
    "from torch.utils.data import Dataset\n",
    "from torch.utils.data import DataLoader\n",
    "\n",
    "from sklearn.metrics import f1_score, accuracy_score"
   ]
  },
  {
   "cell_type": "code",
   "execution_count": 2,
   "metadata": {},
   "outputs": [],
   "source": [
    "model_name = \"bert-base-uncased\""
   ]
  },
  {
   "cell_type": "code",
   "execution_count": 3,
   "metadata": {},
   "outputs": [],
   "source": [
    "tokenizer = BertTokenizerFast.from_pretrained(model_name)"
   ]
  },
  {
   "cell_type": "code",
   "execution_count": 4,
   "metadata": {},
   "outputs": [],
   "source": [
    "_config = {\n",
    "    \"path_train\":\"../../Data/train/en\",\n",
    "    \"path_test\":\"../../Data/test/en\",\n",
    "    \"lr\":2e-5,\n",
    "    \"epochs\":6,\n",
    "    \"train_batch_size\":32,\n",
    "    \"test_batch_size\":32,\n",
    "    \"n\":20\n",
    "}"
   ]
  },
  {
   "cell_type": "code",
   "execution_count": 5,
   "metadata": {},
   "outputs": [],
   "source": [
    "class dataset(Dataset):\n",
    "    def __init__(self, root_path, X, y=None, context=30):\n",
    "        self.root_path = root_path\n",
    "        self.X = X\n",
    "        self.y = y\n",
    "        self.context = context\n",
    "               \n",
    "        self.get_classes()\n",
    "    def __len__(self):\n",
    "        return len(self.X)\n",
    "    def __getitem__(self, idx):\n",
    "        new_path = os.path.join(self.root_path, self.X[idx])\n",
    "        tweets = self.get_text(new_path)\n",
    "        sample = \" \".join(random.sample(tweets, self.context))\n",
    "        encoded_msg = torch.tensor(tokenizer.encode(sample, max_length=512, pad_to_max_length=True))\n",
    "        label = torch.tensor(self.cl[self.y[idx]])\n",
    "        \n",
    "        return {\"text\": encoded_msg, \"attention\": (encoded_msg!=0).float(), \"label\":label}\n",
    "    def normalize(self, txt):\n",
    "        txt = re.sub(r'https\\S+', '', txt).lower()\n",
    "        txt = re.sub(\"&amp;\", \"and\", txt)\n",
    "        txt = re.sub(\"#\", \"\", txt)\n",
    "        txt = re.sub(\"@\\S+\", \"\", txt)\n",
    "        return txt\n",
    "    def get_text(self, path):\n",
    "        return [self.normalize(r.text) for r in ET.parse(path).getroot()[0]]\n",
    "    def get_classes(self):\n",
    "        cl = sorted(list(set(self.y)))\n",
    "        self.cl = dict(zip(cl, range(len(cl))))"
   ]
  },
  {
   "cell_type": "code",
   "execution_count": 6,
   "metadata": {},
   "outputs": [],
   "source": [
    "def get_raw_metadata(path, task = 0):\n",
    "    raw_txt = [x.split(':::') for x in open(os.path.join(path,'truth.txt')).read().split('\\n')[:-1]]\n",
    "    return [x[0]+'.xml' for x in raw_txt], [x[task+1] for x in raw_txt]"
   ]
  },
  {
   "cell_type": "code",
   "execution_count": 7,
   "metadata": {},
   "outputs": [],
   "source": [
    "class BERTForSequenceClassification(nn.Module):\n",
    "    def __init__(self, model_name=model_name):\n",
    "        super(BERTForSequenceClassification, self).__init__()\n",
    "        self.bert = AutoModel.from_pretrained(model_name)\n",
    "        \n",
    "        self.drop = nn.Dropout(0.1)\n",
    "        self.clf  = nn.Linear(768, 2, bias=True)#768\n",
    "    def forward(self, x, att):\n",
    "        x = self.bert(x, attention_mask = att)[1]\n",
    "        #x = self.drop(x)\n",
    "        x = self.clf(x)\n",
    "        return x"
   ]
  },
  {
   "cell_type": "code",
   "execution_count": 8,
   "metadata": {},
   "outputs": [],
   "source": [
    "def train_model(name, path, _config):\n",
    "    \n",
    "    model = BERTForSequenceClassification().to(device)\n",
    "    train_batches = DataLoader(train, batch_size=_config[\"train_batch_size\"], shuffle=True, num_workers=10)\n",
    "\n",
    "    lr = _config[\"lr\"]\n",
    "    max_grad_norm = 1.0\n",
    "\n",
    "    optimizer = AdamW(model.parameters(), lr=lr, correct_bias=False)\n",
    "    epochs = _config[\"epochs\"]\n",
    "    total_steps = len(train_batches) * epochs\n",
    "    scheduler = get_linear_schedule_with_warmup(optimizer, num_warmup_steps = 0, num_training_steps = total_steps)\n",
    "\n",
    "    criterio = nn.CrossEntropyLoss()\n",
    "\n",
    "    for epoch in tqdm.tqdm(range(epochs)):\n",
    "        for i, sample in enumerate(train_batches):\n",
    "            optimizer.zero_grad()\n",
    "            x, y, att = sample['text'].to(device), sample['label'].to(device), sample['attention'].to(device)\n",
    "            y_pred = model(x, att)\n",
    "            loss = criterio(y_pred, y)\n",
    "            loss.backward()\n",
    "            torch.nn.utils.clip_grad_norm_(model.parameters(), 1.0)\n",
    "            optimizer.step()\n",
    "            scheduler.step()\n",
    "    torch.save(model.state_dict(), path+'/'+name+'.pt')"
   ]
  },
  {
   "cell_type": "code",
   "execution_count": 9,
   "metadata": {},
   "outputs": [],
   "source": [
    "def test_model(model, test_batches):\n",
    "    model.eval()\n",
    "    y_t=[]\n",
    "    y_p=[]\n",
    "    logits = []\n",
    "    for i, sample in tqdm.tqdm(enumerate(test_batches)):\n",
    "        x, y, att = sample['text'].to(device), sample['label'].to(device), sample['attention'].to(device)\n",
    "        y_pred = F.softmax(model(x, att).cpu().detach(),1)\n",
    "        logits.append(y_pred)\n",
    "        y_pred = y_pred.argmax(1)\n",
    "        y_p.append(y_pred)\n",
    "        y_t.append(y.cpu())\n",
    "    logits = torch.cat(logits)\n",
    "    y_p=torch.cat(y_p)\n",
    "    y_t=torch.cat(y_t)\n",
    "    criterioNoCuda = nn.CrossEntropyLoss()\n",
    "    model.train()\n",
    "    return accuracy_score(y_t,y_p), criterioNoCuda(logits, y_t)\n",
    "\n",
    "def pred(model, test_batches):\n",
    "    model.eval()\n",
    "    y_t=[]\n",
    "    logits = []\n",
    "    for i, sample in enumerate(test_batches):\n",
    "        x, y, att = sample['text'].to(device), sample['label'].to(device), sample['attention'].to(device)\n",
    "        y_pred = F.softmax(model(x, att).cpu().detach(),1)\n",
    "        logits.append(y_pred)\n",
    "        y_t.append(y.cpu())\n",
    "    logits = torch.cat(logits)\n",
    "    y_t=torch.cat(y_t)\n",
    "    model.train()\n",
    "    return logits, y_t\n",
    "\n",
    "def get_truth(test_batches):\n",
    "    y_t=[]\n",
    "    for i, sample in enumerate(test_batches):\n",
    "        y=sample[\"label\"]\n",
    "        y_t.append(y.cpu())\n",
    "    y_t=torch.cat(y_t)\n",
    "    return y_t\n",
    "\n",
    "def get_logits(model, test_batches):\n",
    "    model.eval()\n",
    "    logits = []\n",
    "    for i, sample in enumerate(test_batches):\n",
    "        x, y, att = sample['text'].to(device), sample['label'].to(device), sample['attention'].to(device)\n",
    "        y_pred = F.softmax(model(x, att).cpu().detach(),1)\n",
    "        logits.append(y_pred)\n",
    "    logits = torch.cat(logits)\n",
    "    model.train()\n",
    "    return logits"
   ]
  },
  {
   "cell_type": "code",
   "execution_count": 10,
   "metadata": {},
   "outputs": [],
   "source": [
    "def eval_model(model, test_batches, n=5):\n",
    "    y_p=None\n",
    "    y_t=None\n",
    "    for _ in range(n):\n",
    "        y, y_t = pred(model, test_batches)\n",
    "        if y_p==None:\n",
    "            y_p=y\n",
    "        else:\n",
    "            y_p = y_p + y\n",
    "        print(accuracy_score(y_t, y_p.argmax(1)))\n",
    "    y_p = y_p/n\n",
    "    return y_p, y_t, accuracy_score(y_t, y_p.argmax(1))"
   ]
  },
  {
   "cell_type": "code",
   "execution_count": 11,
   "metadata": {},
   "outputs": [],
   "source": [
    "device = torch.device(\"cuda:1\")\n",
    "\n",
    "train_paths = get_raw_metadata(_config[\"path_train\"])\n",
    "train = dataset(_config[\"path_train\"], train_paths[0], train_paths[1])\n",
    "train_batches = DataLoader(train, batch_size=_config[\"train_batch_size\"], shuffle=True, num_workers=10)\n",
    "\n",
    "test_paths = get_raw_metadata(_config[\"path_test\"])\n",
    "test = dataset(_config[\"path_test\"], test_paths[0], test_paths[1])\n",
    "test_batches = DataLoader(test, batch_size=_config[\"test_batch_size\"], shuffle=False, num_workers=10)"
   ]
  },
  {
   "cell_type": "code",
   "execution_count": 12,
   "metadata": {},
   "outputs": [
    {
     "name": "stderr",
     "output_type": "stream",
     "text": [
      "100%|██████████| 6/6 [11:34<00:00, 115.70s/it]\n"
     ]
    }
   ],
   "source": [
    "train_model(\"model\", \"Models\", _config)"
   ]
  },
  {
   "cell_type": "code",
   "execution_count": 13,
   "metadata": {},
   "outputs": [
    {
     "data": {
      "text/plain": [
       "<All keys matched successfully>"
      ]
     },
     "execution_count": 13,
     "metadata": {},
     "output_type": "execute_result"
    }
   ],
   "source": [
    "# Load Model\n",
    "model = BERTForSequenceClassification().to(device)\n",
    "model.load_state_dict(torch.load(\"Models/model.pt\"))"
   ]
  },
  {
   "cell_type": "code",
   "execution_count": null,
   "metadata": {},
   "outputs": [
    {
     "name": "stdout",
     "output_type": "stream",
     "text": [
      "0.8020833333333334\n",
      "0.8195833333333333\n"
     ]
    }
   ],
   "source": [
    "eval_model(model, test_batches, _config[\"n\"])[2]"
   ]
  },
  {
   "cell_type": "code",
   "execution_count": null,
   "metadata": {},
   "outputs": [],
   "source": []
  }
 ],
 "metadata": {
  "kernelspec": {
   "display_name": "Python 3",
   "language": "python",
   "name": "python3"
  },
  "language_info": {
   "codemirror_mode": {
    "name": "ipython",
    "version": 3
   },
   "file_extension": ".py",
   "mimetype": "text/x-python",
   "name": "python",
   "nbconvert_exporter": "python",
   "pygments_lexer": "ipython3",
   "version": "3.6.10"
  }
 },
 "nbformat": 4,
 "nbformat_minor": 4
}
